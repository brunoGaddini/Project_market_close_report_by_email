{
 "cells": [
  {
   "cell_type": "markdown",
   "source": [],
   "metadata": {
    "collapsed": false
   }
  },
  {
   "cell_type": "markdown",
   "source": [
    "<font color = \"Orange\"> **Projeto - Relatório de fechamento de mercado por e-mail.**\n",
    "> <font color = \"Orange\"> **Desafio**\n",
    "<br>\n",
    "<h5> >>>> <font color = \"Yellow\"> Passo 1 - Importar os módulos e bibliotecas.\n",
    "<h5> >>>> <font color = \"Yellow\"> Passo 2 - Pegar dados do Ibovespa e do Dólar no Yahoo Finance.\n",
    "<h5> >>>> <font color = \"Yellow\"> Passo 3 - Manipular os dados para deixá-los nos formatos necessários para fazer as contas.\n",
    "<h5> >>>> <font color = \"Yellow\"> Passo 4 - Calcular o retorno diário, mensal e anual.\n",
    "<h5> >>>> <font color = \"Yellow\"> Passo 5 - Localizar, dentro das tabelas de retornos, os valores de fechamento de mercado que irão pro texto  anexado no e-mail.\n",
    "<h5> >>>> <font color = \"Yellow\"> Passo 6 - Fazer os gráficos dos ativos.\n",
    "<h5> >>>> <font color = \"Yellow\"> Passo 7 - Enviar o e-mail."
   ],
   "metadata": {
    "collapsed": false
   }
  },
  {
   "cell_type": "markdown",
   "source": [
    "><font color = \"Orange\"> Passo 1 - Importar os módulos e bibliotecas."
   ],
   "metadata": {
    "collapsed": false
   }
  },
  {
   "cell_type": "code",
   "execution_count": 1,
   "outputs": [],
   "source": [
    "# Pacote para enviar e-mail\n",
    "#!pip install pywin32"
   ],
   "metadata": {
    "collapsed": false
   }
  },
  {
   "cell_type": "code",
   "execution_count": 2,
   "outputs": [],
   "source": [
    "#!pip install yfinance==0.1.74"
   ],
   "metadata": {
    "collapsed": false
   }
  },
  {
   "cell_type": "code",
   "execution_count": 3,
   "outputs": [],
   "source": [
    "# Pacote gráfico\n",
    "#!pip install mplcyberpunk"
   ],
   "metadata": {
    "collapsed": false
   }
  },
  {
   "cell_type": "code",
   "execution_count": null,
   "outputs": [],
   "source": [
    "import pandas as pd\n",
    "import datetime\n",
    "import yfinance as yf\n",
    "import mplcyberpunk\n",
    "import win32com.client as win32 # Módulo para enviar e-mail\n",
    "import pytz # Módulo para configurar a timezone\n",
    "import locale\n",
    "\n",
    "\n",
    "from matplotlib import pyplot as plt # Pacote para plotar gráficos\n",
    "from datetime import date"
   ],
   "metadata": {
    "collapsed": false,
    "pycharm": {
     "is_executing": true
    }
   }
  },
  {
   "cell_type": "markdown",
   "source": [
    "><font color = \"Orange\"> Passo 2: Pegar dados no Yahoo Finance"
   ],
   "metadata": {
    "collapsed": false
   }
  },
  {
   "cell_type": "code",
   "execution_count": 5,
   "outputs": [
    {
     "name": "stdout",
     "output_type": "stream",
     "text": [
      "[*********************100%***********************]  2 of 2 completed\n",
      "['^BVSP', 'BRL=X']\n",
      "2023-02-11 23:08:44.423914\n",
      "2022-02-11 23:08:44.423914\n"
     ]
    },
    {
     "data": {
      "text/plain": "           Adj Close               Close                High            \\\n               BRL=X     ^BVSP     BRL=X     ^BVSP     BRL=X     ^BVSP   \nDate                                                                     \n2022-02-14  5.249956  113807.0  5.249956  113807.0  5.263300  114167.0   \n2022-02-15  5.214000  114660.0  5.214000  114660.0  5.219900  114819.0   \n2022-02-16  5.157900  115181.0  5.157900  115181.0  5.184725  115734.0   \n2022-02-17  5.135800  113528.0  5.135800  113528.0  5.180000  115214.0   \n2022-02-18  5.170600  112768.0  5.170600  112768.0  5.175100  114213.0   \n...              ...       ...       ...       ...       ...       ...   \n2023-02-06  5.149800  108456.0  5.149800  108456.0  5.206000  108710.0   \n2023-02-07  5.145700  107920.0  5.145700  107920.0  5.205700  109037.0   \n2023-02-08  5.209300  109882.0  5.209300  109882.0  5.240100  110175.0   \n2023-02-09  5.199500  107783.0  5.199500  107783.0  5.274000  110046.0   \n2023-02-10  5.289500  108150.0  5.289500  108150.0  5.304566  108647.0   \n\n                 Low                Open           Volume              \n               BRL=X     ^BVSP     BRL=X     ^BVSP  BRL=X       ^BVSP  \nDate                                                                   \n2022-02-14  5.195300  113358.0  5.250500  113643.0      0  10757600.0  \n2022-02-15  5.166288  113882.0  5.213700  113905.0      0  11649600.0  \n2022-02-16  5.143800  114816.0  5.158000  114830.0      0  12052100.0  \n2022-02-17  5.121471  113389.0  5.133567  115181.0      0  10807500.0  \n2022-02-18  5.116900  112701.0  5.168756  113534.0      0  11300700.0  \n...              ...       ...       ...       ...    ...         ...  \n2023-02-06  5.147992  107416.0  5.149800  108518.0      0  11514600.0  \n2023-02-07  5.133384  107234.0  5.145700  108727.0      0  12956300.0  \n2023-02-08  5.164117  107830.0  5.209300  107832.0      0  13837000.0  \n2023-02-09  5.170100  107781.0  5.199500  109952.0      0  12956000.0  \n2023-02-10  5.225173  107620.0  5.289500  108002.0      0  14458000.0  \n\n[260 rows x 12 columns]",
      "text/html": "<div>\n<style scoped>\n    .dataframe tbody tr th:only-of-type {\n        vertical-align: middle;\n    }\n\n    .dataframe tbody tr th {\n        vertical-align: top;\n    }\n\n    .dataframe thead tr th {\n        text-align: left;\n    }\n\n    .dataframe thead tr:last-of-type th {\n        text-align: right;\n    }\n</style>\n<table border=\"1\" class=\"dataframe\">\n  <thead>\n    <tr>\n      <th></th>\n      <th colspan=\"2\" halign=\"left\">Adj Close</th>\n      <th colspan=\"2\" halign=\"left\">Close</th>\n      <th colspan=\"2\" halign=\"left\">High</th>\n      <th colspan=\"2\" halign=\"left\">Low</th>\n      <th colspan=\"2\" halign=\"left\">Open</th>\n      <th colspan=\"2\" halign=\"left\">Volume</th>\n    </tr>\n    <tr>\n      <th></th>\n      <th>BRL=X</th>\n      <th>^BVSP</th>\n      <th>BRL=X</th>\n      <th>^BVSP</th>\n      <th>BRL=X</th>\n      <th>^BVSP</th>\n      <th>BRL=X</th>\n      <th>^BVSP</th>\n      <th>BRL=X</th>\n      <th>^BVSP</th>\n      <th>BRL=X</th>\n      <th>^BVSP</th>\n    </tr>\n    <tr>\n      <th>Date</th>\n      <th></th>\n      <th></th>\n      <th></th>\n      <th></th>\n      <th></th>\n      <th></th>\n      <th></th>\n      <th></th>\n      <th></th>\n      <th></th>\n      <th></th>\n      <th></th>\n    </tr>\n  </thead>\n  <tbody>\n    <tr>\n      <th>2022-02-14</th>\n      <td>5.249956</td>\n      <td>113807.0</td>\n      <td>5.249956</td>\n      <td>113807.0</td>\n      <td>5.263300</td>\n      <td>114167.0</td>\n      <td>5.195300</td>\n      <td>113358.0</td>\n      <td>5.250500</td>\n      <td>113643.0</td>\n      <td>0</td>\n      <td>10757600.0</td>\n    </tr>\n    <tr>\n      <th>2022-02-15</th>\n      <td>5.214000</td>\n      <td>114660.0</td>\n      <td>5.214000</td>\n      <td>114660.0</td>\n      <td>5.219900</td>\n      <td>114819.0</td>\n      <td>5.166288</td>\n      <td>113882.0</td>\n      <td>5.213700</td>\n      <td>113905.0</td>\n      <td>0</td>\n      <td>11649600.0</td>\n    </tr>\n    <tr>\n      <th>2022-02-16</th>\n      <td>5.157900</td>\n      <td>115181.0</td>\n      <td>5.157900</td>\n      <td>115181.0</td>\n      <td>5.184725</td>\n      <td>115734.0</td>\n      <td>5.143800</td>\n      <td>114816.0</td>\n      <td>5.158000</td>\n      <td>114830.0</td>\n      <td>0</td>\n      <td>12052100.0</td>\n    </tr>\n    <tr>\n      <th>2022-02-17</th>\n      <td>5.135800</td>\n      <td>113528.0</td>\n      <td>5.135800</td>\n      <td>113528.0</td>\n      <td>5.180000</td>\n      <td>115214.0</td>\n      <td>5.121471</td>\n      <td>113389.0</td>\n      <td>5.133567</td>\n      <td>115181.0</td>\n      <td>0</td>\n      <td>10807500.0</td>\n    </tr>\n    <tr>\n      <th>2022-02-18</th>\n      <td>5.170600</td>\n      <td>112768.0</td>\n      <td>5.170600</td>\n      <td>112768.0</td>\n      <td>5.175100</td>\n      <td>114213.0</td>\n      <td>5.116900</td>\n      <td>112701.0</td>\n      <td>5.168756</td>\n      <td>113534.0</td>\n      <td>0</td>\n      <td>11300700.0</td>\n    </tr>\n    <tr>\n      <th>...</th>\n      <td>...</td>\n      <td>...</td>\n      <td>...</td>\n      <td>...</td>\n      <td>...</td>\n      <td>...</td>\n      <td>...</td>\n      <td>...</td>\n      <td>...</td>\n      <td>...</td>\n      <td>...</td>\n      <td>...</td>\n    </tr>\n    <tr>\n      <th>2023-02-06</th>\n      <td>5.149800</td>\n      <td>108456.0</td>\n      <td>5.149800</td>\n      <td>108456.0</td>\n      <td>5.206000</td>\n      <td>108710.0</td>\n      <td>5.147992</td>\n      <td>107416.0</td>\n      <td>5.149800</td>\n      <td>108518.0</td>\n      <td>0</td>\n      <td>11514600.0</td>\n    </tr>\n    <tr>\n      <th>2023-02-07</th>\n      <td>5.145700</td>\n      <td>107920.0</td>\n      <td>5.145700</td>\n      <td>107920.0</td>\n      <td>5.205700</td>\n      <td>109037.0</td>\n      <td>5.133384</td>\n      <td>107234.0</td>\n      <td>5.145700</td>\n      <td>108727.0</td>\n      <td>0</td>\n      <td>12956300.0</td>\n    </tr>\n    <tr>\n      <th>2023-02-08</th>\n      <td>5.209300</td>\n      <td>109882.0</td>\n      <td>5.209300</td>\n      <td>109882.0</td>\n      <td>5.240100</td>\n      <td>110175.0</td>\n      <td>5.164117</td>\n      <td>107830.0</td>\n      <td>5.209300</td>\n      <td>107832.0</td>\n      <td>0</td>\n      <td>13837000.0</td>\n    </tr>\n    <tr>\n      <th>2023-02-09</th>\n      <td>5.199500</td>\n      <td>107783.0</td>\n      <td>5.199500</td>\n      <td>107783.0</td>\n      <td>5.274000</td>\n      <td>110046.0</td>\n      <td>5.170100</td>\n      <td>107781.0</td>\n      <td>5.199500</td>\n      <td>109952.0</td>\n      <td>0</td>\n      <td>12956000.0</td>\n    </tr>\n    <tr>\n      <th>2023-02-10</th>\n      <td>5.289500</td>\n      <td>108150.0</td>\n      <td>5.289500</td>\n      <td>108150.0</td>\n      <td>5.304566</td>\n      <td>108647.0</td>\n      <td>5.225173</td>\n      <td>107620.0</td>\n      <td>5.289500</td>\n      <td>108002.0</td>\n      <td>0</td>\n      <td>14458000.0</td>\n    </tr>\n  </tbody>\n</table>\n<p>260 rows × 12 columns</p>\n</div>"
     },
     "metadata": {},
     "output_type": "display_data"
    }
   ],
   "source": [
    "negotiation_codes = [\"^BVSP\", \"BRL=X\"]\n",
    "\n",
    "today = datetime.datetime.now()\n",
    "one_year_ago = today - datetime.timedelta(days=365) # Delta é a diferença entre dois tempos\n",
    "\n",
    "market_data = yf.download(negotiation_codes, one_year_ago, today)\n",
    "\n",
    "print(negotiation_codes)\n",
    "print(today)\n",
    "print(one_year_ago)\n",
    "\n",
    "display(market_data)"
   ],
   "metadata": {
    "collapsed": false
   }
  },
  {
   "cell_type": "markdown",
   "source": [
    "><font color = \"Orange\"> Passo 3 - Manipular os dados para deixá-los nos formatos necessários para fazer as contas.\n",
    ">><font color = \"Orange\"> Passo 3.1 - Manipulando os dados - seleção e exclusão dos dados"
   ],
   "metadata": {
    "collapsed": false
   }
  },
  {
   "cell_type": "code",
   "execution_count": 6,
   "outputs": [
    {
     "data": {
      "text/plain": "               Dólar  Ibovespa\nDate                          \n2022-02-14  5.249956  113807.0\n2022-02-15  5.214000  114660.0\n2022-02-16  5.157900  115181.0\n2022-02-17  5.135800  113528.0\n2022-02-18  5.170600  112768.0\n...              ...       ...\n2023-02-06  5.149800  108456.0\n2023-02-07  5.145700  107920.0\n2023-02-08  5.209300  109882.0\n2023-02-09  5.199500  107783.0\n2023-02-10  5.289500  108150.0\n\n[250 rows x 2 columns]",
      "text/html": "<div>\n<style scoped>\n    .dataframe tbody tr th:only-of-type {\n        vertical-align: middle;\n    }\n\n    .dataframe tbody tr th {\n        vertical-align: top;\n    }\n\n    .dataframe thead th {\n        text-align: right;\n    }\n</style>\n<table border=\"1\" class=\"dataframe\">\n  <thead>\n    <tr style=\"text-align: right;\">\n      <th></th>\n      <th>Dólar</th>\n      <th>Ibovespa</th>\n    </tr>\n    <tr>\n      <th>Date</th>\n      <th></th>\n      <th></th>\n    </tr>\n  </thead>\n  <tbody>\n    <tr>\n      <th>2022-02-14</th>\n      <td>5.249956</td>\n      <td>113807.0</td>\n    </tr>\n    <tr>\n      <th>2022-02-15</th>\n      <td>5.214000</td>\n      <td>114660.0</td>\n    </tr>\n    <tr>\n      <th>2022-02-16</th>\n      <td>5.157900</td>\n      <td>115181.0</td>\n    </tr>\n    <tr>\n      <th>2022-02-17</th>\n      <td>5.135800</td>\n      <td>113528.0</td>\n    </tr>\n    <tr>\n      <th>2022-02-18</th>\n      <td>5.170600</td>\n      <td>112768.0</td>\n    </tr>\n    <tr>\n      <th>...</th>\n      <td>...</td>\n      <td>...</td>\n    </tr>\n    <tr>\n      <th>2023-02-06</th>\n      <td>5.149800</td>\n      <td>108456.0</td>\n    </tr>\n    <tr>\n      <th>2023-02-07</th>\n      <td>5.145700</td>\n      <td>107920.0</td>\n    </tr>\n    <tr>\n      <th>2023-02-08</th>\n      <td>5.209300</td>\n      <td>109882.0</td>\n    </tr>\n    <tr>\n      <th>2023-02-09</th>\n      <td>5.199500</td>\n      <td>107783.0</td>\n    </tr>\n    <tr>\n      <th>2023-02-10</th>\n      <td>5.289500</td>\n      <td>108150.0</td>\n    </tr>\n  </tbody>\n</table>\n<p>250 rows × 2 columns</p>\n</div>"
     },
     "metadata": {},
     "output_type": "display_data"
    }
   ],
   "source": [
    "#closing_data.columns #Acessando o atributo columns\n",
    "closing_data = market_data['Adj Close']\n",
    "closing_data.columns = ['Dólar', 'Ibovespa']\n",
    "\n",
    "closing_data = closing_data.dropna() # removing NaN values\n",
    "\n",
    "display(closing_data)"
   ],
   "metadata": {
    "collapsed": false
   }
  },
  {
   "cell_type": "markdown",
   "source": [],
   "metadata": {
    "collapsed": false
   }
  },
  {
   "cell_type": "markdown",
   "source": [
    "><font color = \"Orange\"> Passo 3 - Manipular os dados para deixá-los nos formatos necessários para fazer as contas.\n",
    ">><font color = \"Orange\"> Passo 3.2 - Manipulando os dados - criando tabelas com outros timeframes"
   ],
   "metadata": {
    "collapsed": false
   }
  },
  {
   "cell_type": "code",
   "execution_count": 7,
   "outputs": [
    {
     "data": {
      "text/plain": "             Dólar  Ibovespa\nDate                        \n2022-02-28  5.1222  113142.0\n2022-03-31  4.7697  119999.0\n2022-04-30  4.9378  107876.0\n2022-05-31  4.7524  111351.0\n2022-06-30  5.1809   98542.0\n2022-07-31  5.1827  103165.0\n2022-08-31  5.1219  109523.0\n2022-09-30  5.3962  110037.0\n2022-10-31  5.2885  116037.0\n2022-11-30  5.2682  112486.0\n2022-12-31  5.2668  110031.0\n2023-01-31  5.1149  113532.0\n2023-02-28  5.2895  108150.0",
      "text/html": "<div>\n<style scoped>\n    .dataframe tbody tr th:only-of-type {\n        vertical-align: middle;\n    }\n\n    .dataframe tbody tr th {\n        vertical-align: top;\n    }\n\n    .dataframe thead th {\n        text-align: right;\n    }\n</style>\n<table border=\"1\" class=\"dataframe\">\n  <thead>\n    <tr style=\"text-align: right;\">\n      <th></th>\n      <th>Dólar</th>\n      <th>Ibovespa</th>\n    </tr>\n    <tr>\n      <th>Date</th>\n      <th></th>\n      <th></th>\n    </tr>\n  </thead>\n  <tbody>\n    <tr>\n      <th>2022-02-28</th>\n      <td>5.1222</td>\n      <td>113142.0</td>\n    </tr>\n    <tr>\n      <th>2022-03-31</th>\n      <td>4.7697</td>\n      <td>119999.0</td>\n    </tr>\n    <tr>\n      <th>2022-04-30</th>\n      <td>4.9378</td>\n      <td>107876.0</td>\n    </tr>\n    <tr>\n      <th>2022-05-31</th>\n      <td>4.7524</td>\n      <td>111351.0</td>\n    </tr>\n    <tr>\n      <th>2022-06-30</th>\n      <td>5.1809</td>\n      <td>98542.0</td>\n    </tr>\n    <tr>\n      <th>2022-07-31</th>\n      <td>5.1827</td>\n      <td>103165.0</td>\n    </tr>\n    <tr>\n      <th>2022-08-31</th>\n      <td>5.1219</td>\n      <td>109523.0</td>\n    </tr>\n    <tr>\n      <th>2022-09-30</th>\n      <td>5.3962</td>\n      <td>110037.0</td>\n    </tr>\n    <tr>\n      <th>2022-10-31</th>\n      <td>5.2885</td>\n      <td>116037.0</td>\n    </tr>\n    <tr>\n      <th>2022-11-30</th>\n      <td>5.2682</td>\n      <td>112486.0</td>\n    </tr>\n    <tr>\n      <th>2022-12-31</th>\n      <td>5.2668</td>\n      <td>110031.0</td>\n    </tr>\n    <tr>\n      <th>2023-01-31</th>\n      <td>5.1149</td>\n      <td>113532.0</td>\n    </tr>\n    <tr>\n      <th>2023-02-28</th>\n      <td>5.2895</td>\n      <td>108150.0</td>\n    </tr>\n  </tbody>\n</table>\n</div>"
     },
     "metadata": {},
     "output_type": "display_data"
    },
    {
     "data": {
      "text/plain": "               Dólar  Ibovespa\nDate                          \n2022-02-14  5.249956  113807.0\n2022-02-15  5.214000  114660.0\n2022-02-16  5.157900  115181.0\n2022-02-17  5.135800  113528.0\n2022-02-18  5.170600  112768.0\n...              ...       ...\n2023-02-06  5.149800  108456.0\n2023-02-07  5.145700  107920.0\n2023-02-08  5.209300  109882.0\n2023-02-09  5.199500  107783.0\n2023-02-10  5.289500  108150.0\n\n[250 rows x 2 columns]",
      "text/html": "<div>\n<style scoped>\n    .dataframe tbody tr th:only-of-type {\n        vertical-align: middle;\n    }\n\n    .dataframe tbody tr th {\n        vertical-align: top;\n    }\n\n    .dataframe thead th {\n        text-align: right;\n    }\n</style>\n<table border=\"1\" class=\"dataframe\">\n  <thead>\n    <tr style=\"text-align: right;\">\n      <th></th>\n      <th>Dólar</th>\n      <th>Ibovespa</th>\n    </tr>\n    <tr>\n      <th>Date</th>\n      <th></th>\n      <th></th>\n    </tr>\n  </thead>\n  <tbody>\n    <tr>\n      <th>2022-02-14</th>\n      <td>5.249956</td>\n      <td>113807.0</td>\n    </tr>\n    <tr>\n      <th>2022-02-15</th>\n      <td>5.214000</td>\n      <td>114660.0</td>\n    </tr>\n    <tr>\n      <th>2022-02-16</th>\n      <td>5.157900</td>\n      <td>115181.0</td>\n    </tr>\n    <tr>\n      <th>2022-02-17</th>\n      <td>5.135800</td>\n      <td>113528.0</td>\n    </tr>\n    <tr>\n      <th>2022-02-18</th>\n      <td>5.170600</td>\n      <td>112768.0</td>\n    </tr>\n    <tr>\n      <th>...</th>\n      <td>...</td>\n      <td>...</td>\n    </tr>\n    <tr>\n      <th>2023-02-06</th>\n      <td>5.149800</td>\n      <td>108456.0</td>\n    </tr>\n    <tr>\n      <th>2023-02-07</th>\n      <td>5.145700</td>\n      <td>107920.0</td>\n    </tr>\n    <tr>\n      <th>2023-02-08</th>\n      <td>5.209300</td>\n      <td>109882.0</td>\n    </tr>\n    <tr>\n      <th>2023-02-09</th>\n      <td>5.199500</td>\n      <td>107783.0</td>\n    </tr>\n    <tr>\n      <th>2023-02-10</th>\n      <td>5.289500</td>\n      <td>108150.0</td>\n    </tr>\n  </tbody>\n</table>\n<p>250 rows × 2 columns</p>\n</div>"
     },
     "metadata": {},
     "output_type": "display_data"
    }
   ],
   "source": [
    "# Turning the data into annual (.last)\n",
    "annual_data = closing_data.resample(\"Y\").last()\n",
    "#display(annual_data)\n",
    "\n",
    "# Turning the data into monthly\n",
    "montly_data = closing_data.resample(\"M\").last()\n",
    "display(montly_data)\n",
    "\n",
    "# Turning the data into monthly\n",
    "daily_data = closing_data.resample(\"D\").last().dropna()\n",
    "display(daily_data)"
   ],
   "metadata": {
    "collapsed": false
   }
  },
  {
   "cell_type": "markdown",
   "source": [],
   "metadata": {
    "collapsed": false
   }
  },
  {
   "cell_type": "markdown",
   "source": [
    "><font color = \"Orange\"> Passo 4 - Calcular o retorno diário, mensal e anual."
   ],
   "metadata": {
    "collapsed": false
   }
  },
  {
   "cell_type": "code",
   "execution_count": 8,
   "outputs": [
    {
     "data": {
      "text/plain": "              Dólar  Ibovespa\nDate                         \n2023-12-31  0.00431 -0.017095",
      "text/html": "<div>\n<style scoped>\n    .dataframe tbody tr th:only-of-type {\n        vertical-align: middle;\n    }\n\n    .dataframe tbody tr th {\n        vertical-align: top;\n    }\n\n    .dataframe thead th {\n        text-align: right;\n    }\n</style>\n<table border=\"1\" class=\"dataframe\">\n  <thead>\n    <tr style=\"text-align: right;\">\n      <th></th>\n      <th>Dólar</th>\n      <th>Ibovespa</th>\n    </tr>\n    <tr>\n      <th>Date</th>\n      <th></th>\n      <th></th>\n    </tr>\n  </thead>\n  <tbody>\n    <tr>\n      <th>2023-12-31</th>\n      <td>0.00431</td>\n      <td>-0.017095</td>\n    </tr>\n  </tbody>\n</table>\n</div>"
     },
     "metadata": {},
     "output_type": "display_data"
    },
    {
     "data": {
      "text/plain": "               Dólar  Ibovespa\nDate                          \n2022-03-31 -0.068818  0.060605\n2022-04-30  0.035243 -0.101026\n2022-05-31 -0.037547  0.032213\n2022-06-30  0.090165 -0.115033\n2022-07-31  0.000347  0.046914\n2022-08-31 -0.011731  0.061629\n2022-09-30  0.053554  0.004693\n2022-10-31 -0.019959  0.054527\n2022-11-30 -0.003839 -0.030602\n2022-12-31 -0.000266 -0.021825\n2023-01-31 -0.028841  0.031818\n2023-02-28  0.034136 -0.047405",
      "text/html": "<div>\n<style scoped>\n    .dataframe tbody tr th:only-of-type {\n        vertical-align: middle;\n    }\n\n    .dataframe tbody tr th {\n        vertical-align: top;\n    }\n\n    .dataframe thead th {\n        text-align: right;\n    }\n</style>\n<table border=\"1\" class=\"dataframe\">\n  <thead>\n    <tr style=\"text-align: right;\">\n      <th></th>\n      <th>Dólar</th>\n      <th>Ibovespa</th>\n    </tr>\n    <tr>\n      <th>Date</th>\n      <th></th>\n      <th></th>\n    </tr>\n  </thead>\n  <tbody>\n    <tr>\n      <th>2022-03-31</th>\n      <td>-0.068818</td>\n      <td>0.060605</td>\n    </tr>\n    <tr>\n      <th>2022-04-30</th>\n      <td>0.035243</td>\n      <td>-0.101026</td>\n    </tr>\n    <tr>\n      <th>2022-05-31</th>\n      <td>-0.037547</td>\n      <td>0.032213</td>\n    </tr>\n    <tr>\n      <th>2022-06-30</th>\n      <td>0.090165</td>\n      <td>-0.115033</td>\n    </tr>\n    <tr>\n      <th>2022-07-31</th>\n      <td>0.000347</td>\n      <td>0.046914</td>\n    </tr>\n    <tr>\n      <th>2022-08-31</th>\n      <td>-0.011731</td>\n      <td>0.061629</td>\n    </tr>\n    <tr>\n      <th>2022-09-30</th>\n      <td>0.053554</td>\n      <td>0.004693</td>\n    </tr>\n    <tr>\n      <th>2022-10-31</th>\n      <td>-0.019959</td>\n      <td>0.054527</td>\n    </tr>\n    <tr>\n      <th>2022-11-30</th>\n      <td>-0.003839</td>\n      <td>-0.030602</td>\n    </tr>\n    <tr>\n      <th>2022-12-31</th>\n      <td>-0.000266</td>\n      <td>-0.021825</td>\n    </tr>\n    <tr>\n      <th>2023-01-31</th>\n      <td>-0.028841</td>\n      <td>0.031818</td>\n    </tr>\n    <tr>\n      <th>2023-02-28</th>\n      <td>0.034136</td>\n      <td>-0.047405</td>\n    </tr>\n  </tbody>\n</table>\n</div>"
     },
     "metadata": {},
     "output_type": "display_data"
    },
    {
     "data": {
      "text/plain": "               Dólar  Ibovespa\nDate                          \n2022-02-15 -0.006849  0.007495\n2022-02-16 -0.010760  0.004544\n2022-02-17 -0.004285 -0.014351\n2022-02-18  0.006776 -0.006694\n2022-02-21 -0.006402 -0.009249\n...              ...       ...\n2023-02-06  0.019924 -0.000313\n2023-02-07 -0.000796 -0.004942\n2023-02-08  0.012360  0.018180\n2023-02-09 -0.001881 -0.019102\n2023-02-10  0.017309  0.003405\n\n[249 rows x 2 columns]",
      "text/html": "<div>\n<style scoped>\n    .dataframe tbody tr th:only-of-type {\n        vertical-align: middle;\n    }\n\n    .dataframe tbody tr th {\n        vertical-align: top;\n    }\n\n    .dataframe thead th {\n        text-align: right;\n    }\n</style>\n<table border=\"1\" class=\"dataframe\">\n  <thead>\n    <tr style=\"text-align: right;\">\n      <th></th>\n      <th>Dólar</th>\n      <th>Ibovespa</th>\n    </tr>\n    <tr>\n      <th>Date</th>\n      <th></th>\n      <th></th>\n    </tr>\n  </thead>\n  <tbody>\n    <tr>\n      <th>2022-02-15</th>\n      <td>-0.006849</td>\n      <td>0.007495</td>\n    </tr>\n    <tr>\n      <th>2022-02-16</th>\n      <td>-0.010760</td>\n      <td>0.004544</td>\n    </tr>\n    <tr>\n      <th>2022-02-17</th>\n      <td>-0.004285</td>\n      <td>-0.014351</td>\n    </tr>\n    <tr>\n      <th>2022-02-18</th>\n      <td>0.006776</td>\n      <td>-0.006694</td>\n    </tr>\n    <tr>\n      <th>2022-02-21</th>\n      <td>-0.006402</td>\n      <td>-0.009249</td>\n    </tr>\n    <tr>\n      <th>...</th>\n      <td>...</td>\n      <td>...</td>\n    </tr>\n    <tr>\n      <th>2023-02-06</th>\n      <td>0.019924</td>\n      <td>-0.000313</td>\n    </tr>\n    <tr>\n      <th>2023-02-07</th>\n      <td>-0.000796</td>\n      <td>-0.004942</td>\n    </tr>\n    <tr>\n      <th>2023-02-08</th>\n      <td>0.012360</td>\n      <td>0.018180</td>\n    </tr>\n    <tr>\n      <th>2023-02-09</th>\n      <td>-0.001881</td>\n      <td>-0.019102</td>\n    </tr>\n    <tr>\n      <th>2023-02-10</th>\n      <td>0.017309</td>\n      <td>0.003405</td>\n    </tr>\n  </tbody>\n</table>\n<p>249 rows × 2 columns</p>\n</div>"
     },
     "metadata": {},
     "output_type": "display_data"
    }
   ],
   "source": [
    "annual_return = annual_data.pct_change().dropna()\n",
    "montly_return = montly_data.pct_change().dropna()\n",
    "daily_return = daily_data.pct_change().dropna()\n",
    "\n",
    "display(annual_return)\n",
    "display(montly_return)\n",
    "display(daily_return)"
   ],
   "metadata": {
    "collapsed": false
   }
  },
  {
   "cell_type": "markdown",
   "source": [
    "><font color = \"Orange\"> Localizar, dentro das tabelas de retornos, os valores de fechamento de mercado que irão pro texto  anexado no e-mail.\n",
    ">><font color = \"Orange\"> loc -> Referencia elementos a partir do nome\n",
    ">><font color = \"Orange\"> iloc -> Seleciona elementos como uma matriz"
   ],
   "metadata": {
    "collapsed": false
   }
  },
  {
   "cell_type": "code",
   "execution_count": 9,
   "outputs": [
    {
     "name": "stdout",
     "output_type": "stream",
     "text": [
      "-0.0008509186392321455\n",
      "0.019923901731429217\n",
      "0.017309385736172578 Daily Dolar pct last element\n",
      "0.003404989655140467 Daily Ibovespa pct last element\n",
      "0.03413558828730823 Montly Dolar pct last element\n",
      "-0.04740513687770853 Montly Ibovespa pct last element\n",
      "0.004310076340301006 Year Dolar pct last element\n",
      "-0.017095182266815723 Year Montly Ibovespa pct last element\n"
     ]
    }
   ],
   "source": [
    "loc_return_feb_03_23 = daily_return.loc[\"2023-02-03\", \"Dólar\"] # location by name (loc)\n",
    "iloc_return_feb_03_23 = daily_return.iloc[-5, 0] # array location\n",
    "\n",
    "print(loc_return_feb_03_23)\n",
    "print(iloc_return_feb_03_23)\n",
    "\n",
    "# Daily finding the last element\n",
    "daily_dolar_last_element = daily_return.iloc[-1, 0]\n",
    "daily_ibovespa_last_element = daily_return.iloc[-1, 1]\n",
    "\n",
    "print(daily_dolar_last_element, \"Daily Dolar pct last element\")\n",
    "print(daily_ibovespa_last_element, \"Daily Ibovespa pct last element\")\n",
    "\n",
    "# Montly finding the last element\n",
    "montly_dolar_last_element = montly_return.iloc[-1, 0]\n",
    "montly_ibovespa_last_element = montly_return.iloc[-1, 1]\n",
    "\n",
    "print(montly_dolar_last_element, \"Montly Dolar pct last element\")\n",
    "print(montly_ibovespa_last_element, \"Montly Ibovespa pct last element\")\n",
    "\n",
    "# Year finding the last element\n",
    "year_dolar_last_element = annual_return.iloc[-1, 0]\n",
    "year_ibovespa_last_element = annual_return.iloc[-1, 1]\n",
    "\n",
    "print(year_dolar_last_element, \"Year Dolar pct last element\")\n",
    "print(year_ibovespa_last_element, \"Year Montly Ibovespa pct last element\")"
   ],
   "metadata": {
    "collapsed": false
   }
  },
  {
   "cell_type": "markdown",
   "source": [
    "><font color = \"Orange\"> Tranformar em porcentagem, arredondar e definis a quantidade de casas decimais"
   ],
   "metadata": {
    "collapsed": false
   }
  },
  {
   "cell_type": "code",
   "execution_count": 10,
   "outputs": [],
   "source": [
    "daily_dolar_last_element = round((daily_dolar_last_element * 100), 2) # The last argument sets the number of decimal places\n",
    "daily_ibovespa_last_element = round((daily_ibovespa_last_element * 100), 2)\n",
    "\n",
    "montly_dolar_last_element = round((montly_dolar_last_element * 100), 2)\n",
    "montly_ibovespa_last_element = round((montly_ibovespa_last_element * 100), 2)\n",
    "\n",
    "year_dolar_last_element = round((year_dolar_last_element * 100), 2)\n",
    "year_ibovespa_last_element = round((year_ibovespa_last_element * 100), 2)"
   ],
   "metadata": {
    "collapsed": false
   }
  },
  {
   "cell_type": "markdown",
   "source": [
    "<font color = \"Orange\"> Passo 6 - Fazer os gráficos dos ativos."
   ],
   "metadata": {
    "collapsed": false
   }
  },
  {
   "cell_type": "code",
   "execution_count": 11,
   "outputs": [
    {
     "data": {
      "text/plain": "               Dólar  Ibovespa\nDate                          \n2022-02-14  5.249956  113807.0\n2022-02-15  5.214000  114660.0\n2022-02-16  5.157900  115181.0\n2022-02-17  5.135800  113528.0\n2022-02-18  5.170600  112768.0\n...              ...       ...\n2023-02-06  5.149800  108456.0\n2023-02-07  5.145700  107920.0\n2023-02-08  5.209300  109882.0\n2023-02-09  5.199500  107783.0\n2023-02-10  5.289500  108150.0\n\n[250 rows x 2 columns]",
      "text/html": "<div>\n<style scoped>\n    .dataframe tbody tr th:only-of-type {\n        vertical-align: middle;\n    }\n\n    .dataframe tbody tr th {\n        vertical-align: top;\n    }\n\n    .dataframe thead th {\n        text-align: right;\n    }\n</style>\n<table border=\"1\" class=\"dataframe\">\n  <thead>\n    <tr style=\"text-align: right;\">\n      <th></th>\n      <th>Dólar</th>\n      <th>Ibovespa</th>\n    </tr>\n    <tr>\n      <th>Date</th>\n      <th></th>\n      <th></th>\n    </tr>\n  </thead>\n  <tbody>\n    <tr>\n      <th>2022-02-14</th>\n      <td>5.249956</td>\n      <td>113807.0</td>\n    </tr>\n    <tr>\n      <th>2022-02-15</th>\n      <td>5.214000</td>\n      <td>114660.0</td>\n    </tr>\n    <tr>\n      <th>2022-02-16</th>\n      <td>5.157900</td>\n      <td>115181.0</td>\n    </tr>\n    <tr>\n      <th>2022-02-17</th>\n      <td>5.135800</td>\n      <td>113528.0</td>\n    </tr>\n    <tr>\n      <th>2022-02-18</th>\n      <td>5.170600</td>\n      <td>112768.0</td>\n    </tr>\n    <tr>\n      <th>...</th>\n      <td>...</td>\n      <td>...</td>\n    </tr>\n    <tr>\n      <th>2023-02-06</th>\n      <td>5.149800</td>\n      <td>108456.0</td>\n    </tr>\n    <tr>\n      <th>2023-02-07</th>\n      <td>5.145700</td>\n      <td>107920.0</td>\n    </tr>\n    <tr>\n      <th>2023-02-08</th>\n      <td>5.209300</td>\n      <td>109882.0</td>\n    </tr>\n    <tr>\n      <th>2023-02-09</th>\n      <td>5.199500</td>\n      <td>107783.0</td>\n    </tr>\n    <tr>\n      <th>2023-02-10</th>\n      <td>5.289500</td>\n      <td>108150.0</td>\n    </tr>\n  </tbody>\n</table>\n<p>250 rows × 2 columns</p>\n</div>"
     },
     "execution_count": 11,
     "metadata": {},
     "output_type": "execute_result"
    }
   ],
   "source": [
    "closing_data"
   ],
   "metadata": {
    "collapsed": false
   }
  },
  {
   "cell_type": "code",
   "execution_count": 12,
   "outputs": [
    {
     "data": {
      "text/plain": "<Figure size 432x288 with 1 Axes>",
      "image/png": "[encoded data removed]"
     },
     "metadata": {},
     "output_type": "display_data"
    }
   ],
   "source": [
    "# Creating the Ibovespa chart\n",
    "plt.style.use(\"cyberpunk\")\n",
    "\n",
    "font = {'family': 'serif',\n",
    "        'color':  'white',\n",
    "        'weight': 'normal',\n",
    "        'size': 11,\n",
    "        }\n",
    "\n",
    "closing_data.plot(y = \"Ibovespa\", use_index = True, legend = False)\n",
    "\n",
    "plt.title(\"Ibovespa\", fontdict=font)\n",
    "plt.xlabel('Data', fontdict=font)\n",
    "plt.ylabel('Pontos', fontdict=font)\n",
    "\n",
    "# Tweak spacing to prevent clipping of ylabel\n",
    "plt.subplots_adjust(left=0.15)\n",
    "\n",
    "# Saving the image\n",
    "plt.savefig('ibovespa.png', dpi = 300)\n",
    "\n",
    "plt.show()"
   ],
   "metadata": {
    "collapsed": false
   }
  },
  {
   "cell_type": "code",
   "execution_count": 13,
   "outputs": [
    {
     "data": {
      "text/plain": "<Figure size 432x288 with 1 Axes>",
      "image/png": "[encoded data removed]"
     },
     "metadata": {},
     "output_type": "display_data"
    }
   ],
   "source": [
    "# Creating the Dólar chart\n",
    "plt.style.use(\"cyberpunk\")\n",
    "\n",
    "font = {'family': 'serif',\n",
    "        'color':  'white',\n",
    "        'weight': 'normal',\n",
    "        'size': 11,\n",
    "        }\n",
    "\n",
    "closing_data.plot(y = \"Dólar\", use_index = True, legend = False)\n",
    "\n",
    "plt.title(\"Dólar\", fontdict=font)\n",
    "plt.xlabel('Data', fontdict=font)\n",
    "plt.ylabel('Pontos', fontdict=font)\n",
    "\n",
    "# Tweak spacing to prevent clipping of ylabel\n",
    "plt.subplots_adjust(left=0.15)\n",
    "\n",
    "# Saving the image\n",
    "plt.savefig('dolar.png', dpi = 300)\n",
    "\n",
    "plt.show()"
   ],
   "metadata": {
    "collapsed": false
   }
  },
  {
   "cell_type": "markdown",
   "source": [
    "><font color = \"Orange\"> Passo 7 - Enviar o e-mail."
   ],
   "metadata": {
    "collapsed": false
   }
  },
  {
   "cell_type": "code",
   "execution_count": 14,
   "outputs": [],
   "source": [
    "outlook = win32.Dispatch(\"outlook.application\")\n",
    "\n",
    "email = outlook.CreateItem(0)"
   ],
   "metadata": {
    "collapsed": false
   }
  },
  {
   "cell_type": "code",
   "execution_count": 15,
   "outputs": [],
   "source": [
    "#email"
   ],
   "metadata": {
    "collapsed": false
   }
  },
  {
   "cell_type": "code",
   "execution_count": 16,
   "outputs": [],
   "source": [
    "nome = \"Bruno\"\n",
    "\n",
    "timezone = pytz.timezone('America/Sao_Paulo')\n",
    "hoje = datetime.datetime.now().astimezone(timezone)\n",
    "\n",
    "locale.setlocale(locale.LC_ALL, \"pt_br\") # Trabalhando na localidade português Brasil\n",
    "data_em_texto = hoje.strftime(\"%d/%m/%Y - %A\").upper()\n",
    "mes = hoje.strftime(\"%B\").upper()\n",
    "\n",
    "email.To = \"bruno_gaddini@hotmail.com\"\n",
    "email.Subject = \"Relatório Diário\"\n",
    "email.Body = f'''{nome}, segue o relatório diário - {data_em_texto}:\n",
    "\n",
    "Bolsa:\n",
    "\n",
    "No ano o Ibovespa está tendo uma rentabilidade de {year_ibovespa_last_element}%,\n",
    "enquanto em {mes.lower()} a rentabilidade é de {montly_ibovespa_last_element}%.\n",
    "\n",
    "No último dia útil, o fechamento do Ibovespa foi de {daily_ibovespa_last_element}%.\n",
    "\n",
    "Dólar:\n",
    "\n",
    "No ano o Dólar está tendo uma rentabilidade de {year_dolar_last_element}%,\n",
    "enquanto em {mes.lower()} a rentabilidade é de {montly_dolar_last_element}%.\n",
    "\n",
    "No último dia útil, o fechamento do Dólar foi de {daily_dolar_last_element}%.\n",
    "\n",
    "'''\n",
    "\n",
    "anexo_ibovespa = r'C:\\Users\\Bruno\\Desktop\\Python\\Finance Bootcamp\\Aula 01\\ibovespa.png'\n",
    "anexo_dolar = r'C:\\Users\\Bruno\\Desktop\\Python\\Finance Bootcamp\\Aula 01\\dolar.png'\n",
    "\n",
    "email.Attachments.Add(anexo_ibovespa)\n",
    "email.Attachments.Add(anexo_dolar)\n",
    "\n",
    "email.Send()"
   ],
   "metadata": {
    "collapsed": false
   }
  }
 ],
 "metadata": {
  "kernelspec": {
   "display_name": "Python 3",
   "language": "python",
   "name": "python3"
  },
  "language_info": {
   "codemirror_mode": {
    "name": "ipython",
    "version": 2
   },
   "file_extension": ".py",
   "mimetype": "text/x-python",
   "name": "python",
   "nbconvert_exporter": "python",
   "pygments_lexer": "ipython2",
   "version": "2.7.6"
  }
 },
 "nbformat": 4,
 "nbformat_minor": 0
}
