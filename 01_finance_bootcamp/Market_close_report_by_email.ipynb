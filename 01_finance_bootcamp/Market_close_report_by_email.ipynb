{
 "cells": [
  {
   "cell_type": "markdown",
   "source": [],
   "metadata": {
    "collapsed": false
   }
  },
  {
   "cell_type": "markdown",
   "source": [
    "<font color = \"Orange\"> **Projeto - Relatório de fechamento de mercado por e-mail.**\n",
    "> <font color = \"Orange\"> **Desafio**\n",
    "<br>\n",
    "<h5> >>>> <font color = \"Yellow\"> Passo 1 - Importar os módulos e bibliotecas.\n",
    "<h5> >>>> <font color = \"Yellow\"> Passo 2 - Pegar dados do Ibovespa e do Dólar no Yahoo Finance.\n",
    "<h5> >>>> <font color = \"Yellow\"> Passo 3 - Manipular os dados para deixá-los nos formatos necessários para fazer as contas.\n",
    "<h5> >>>> <font color = \"Yellow\"> Passo 4 - Calcular o retorno diário, mensal e anual.\n",
    "<h5> >>>> <font color = \"Yellow\"> Passo 5 - Localizar, dentro das tabelas de retornos, os valores de fechamento de mercado que irão pro texto  anexado no e-mail.\n",
    "<h5> >>>> <font color = \"Yellow\"> Passo 6 - Fazer os gráficos dos ativos.\n",
    "<h5> >>>> <font color = \"Yellow\"> Passo 7 - Enviar o e-mail."
   ],
   "metadata": {
    "collapsed": false
   }
  },
  {
   "cell_type": "markdown",
   "source": [
    "><font color = \"Orange\"> Passo 1 - Importar os módulos e bibliotecas."
   ],
   "metadata": {
    "collapsed": false
   }
  },
  {
   "cell_type": "code",
   "execution_count": 2,
   "outputs": [
    {
     "name": "stdout",
     "output_type": "stream",
     "text": [
      "Requirement already satisfied: pywin32 in c:\\users\\bruno\\anaconda3\\lib\\site-packages (228)\n"
     ]
    }
   ],
   "source": [
    "# Pacote para enviar e-mail\n",
    "!pip install pywin32"
   ],
   "metadata": {
    "collapsed": false
   }
  },
  {
   "cell_type": "code",
   "execution_count": 3,
   "outputs": [
    {
     "name": "stdout",
     "output_type": "stream",
     "text": [
      "Requirement already satisfied: yfinance==0.1.74 in c:\\users\\bruno\\anaconda3\\lib\\site-packages (0.1.74)\n",
      "Requirement already satisfied: pandas>=0.24.0 in c:\\users\\bruno\\anaconda3\\lib\\site-packages (from yfinance==0.1.74) (1.3.4)\n",
      "Requirement already satisfied: multitasking>=0.0.7 in c:\\users\\bruno\\anaconda3\\lib\\site-packages (from yfinance==0.1.74) (0.0.11)\n",
      "Requirement already satisfied: lxml>=4.5.1 in c:\\users\\bruno\\anaconda3\\lib\\site-packages (from yfinance==0.1.74) (4.6.3)\n",
      "Requirement already satisfied: numpy>=1.15 in c:\\users\\bruno\\anaconda3\\lib\\site-packages (from yfinance==0.1.74) (1.20.3)\n",
      "Requirement already satisfied: requests>=2.26 in c:\\users\\bruno\\anaconda3\\lib\\site-packages (from yfinance==0.1.74) (2.26.0)\n",
      "Requirement already satisfied: pytz>=2017.3 in c:\\users\\bruno\\anaconda3\\lib\\site-packages (from pandas>=0.24.0->yfinance==0.1.74) (2021.3)\n",
      "Requirement already satisfied: python-dateutil>=2.7.3 in c:\\users\\bruno\\anaconda3\\lib\\site-packages (from pandas>=0.24.0->yfinance==0.1.74) (2.8.2)\n",
      "Requirement already satisfied: six>=1.5 in c:\\users\\bruno\\anaconda3\\lib\\site-packages (from python-dateutil>=2.7.3->pandas>=0.24.0->yfinance==0.1.74) (1.16.0)\n",
      "Requirement already satisfied: certifi>=2017.4.17 in c:\\users\\bruno\\anaconda3\\lib\\site-packages (from requests>=2.26->yfinance==0.1.74) (2021.10.8)\n",
      "Requirement already satisfied: charset-normalizer~=2.0.0 in c:\\users\\bruno\\anaconda3\\lib\\site-packages (from requests>=2.26->yfinance==0.1.74) (2.0.4)\n",
      "Requirement already satisfied: urllib3<1.27,>=1.21.1 in c:\\users\\bruno\\anaconda3\\lib\\site-packages (from requests>=2.26->yfinance==0.1.74) (1.26.7)\n",
      "Requirement already satisfied: idna<4,>=2.5 in c:\\users\\bruno\\anaconda3\\lib\\site-packages (from requests>=2.26->yfinance==0.1.74) (3.2)\n"
     ]
    }
   ],
   "source": [
    "!pip install yfinance==0.1.74"
   ],
   "metadata": {
    "collapsed": false
   }
  },
  {
   "cell_type": "code",
   "execution_count": 4,
   "outputs": [
    {
     "name": "stdout",
     "output_type": "stream",
     "text": [
      "Requirement already satisfied: mplcyberpunk in c:\\users\\bruno\\anaconda3\\lib\\site-packages (0.6.0)\n",
      "Requirement already satisfied: matplotlib in c:\\users\\bruno\\anaconda3\\lib\\site-packages (from mplcyberpunk) (3.4.3)\n",
      "Requirement already satisfied: cycler>=0.10 in c:\\users\\bruno\\anaconda3\\lib\\site-packages (from matplotlib->mplcyberpunk) (0.10.0)\n",
      "Requirement already satisfied: kiwisolver>=1.0.1 in c:\\users\\bruno\\anaconda3\\lib\\site-packages (from matplotlib->mplcyberpunk) (1.3.1)\n",
      "Requirement already satisfied: numpy>=1.16 in c:\\users\\bruno\\anaconda3\\lib\\site-packages (from matplotlib->mplcyberpunk) (1.20.3)\n",
      "Requirement already satisfied: python-dateutil>=2.7 in c:\\users\\bruno\\anaconda3\\lib\\site-packages (from matplotlib->mplcyberpunk) (2.8.2)\n",
      "Requirement already satisfied: pyparsing>=2.2.1 in c:\\users\\bruno\\anaconda3\\lib\\site-packages (from matplotlib->mplcyberpunk) (3.0.4)\n",
      "Requirement already satisfied: pillow>=6.2.0 in c:\\users\\bruno\\anaconda3\\lib\\site-packages (from matplotlib->mplcyberpunk) (8.4.0)\n",
      "Requirement already satisfied: six in c:\\users\\bruno\\anaconda3\\lib\\site-packages (from cycler>=0.10->matplotlib->mplcyberpunk) (1.16.0)\n"
     ]
    }
   ],
   "source": [
    "# Trata-se de um pacote ser um pacore gráfico\n",
    "!pip install mplcyberpunk"
   ],
   "metadata": {
    "collapsed": false
   }
  },
  {
   "cell_type": "code",
   "execution_count": 5,
   "outputs": [],
   "source": [
    "import pandas as pd\n",
    "import datetime\n",
    "import yfinance as yf\n",
    "import mplcyberpunk\n",
    "import win32com.client as win32 # Módulo para enviar e-mail\n",
    "\n",
    "from matplotlib import pyplot as plt # Pacote para plotar gráficos"
   ],
   "metadata": {
    "collapsed": false
   }
  },
  {
   "cell_type": "markdown",
   "source": [
    "><font color = \"Orange\"> Passo 2: Pegar dados no Yahoo Finance"
   ],
   "metadata": {
    "collapsed": false
   }
  },
  {
   "cell_type": "code",
   "execution_count": 11,
   "outputs": [
    {
     "name": "stdout",
     "output_type": "stream",
     "text": [
      "[*********************100%***********************]  2 of 2 completed\n",
      "['^BVSP', 'BRL=X']\n",
      "2023-02-09 22:51:50.089277\n",
      "2022-02-09 22:51:50.089277\n"
     ]
    },
    {
     "data": {
      "text/plain": "           Adj Close                    Close                     High  \\\n               BRL=X          ^BVSP     BRL=X          ^BVSP     BRL=X   \nDate                                                                     \n2022-02-10  5.234500  113359.000000  5.234500  113359.000000  5.244600   \n2022-02-11  5.248700  113572.000000  5.248700  113572.000000  5.251200   \n2022-02-14  5.249956  113807.000000  5.249956  113807.000000  5.263300   \n2022-02-15  5.214000  114660.000000  5.214000  114660.000000  5.219900   \n2022-02-16  5.157900  115181.000000  5.157900  115181.000000  5.184725   \n...              ...            ...       ...            ...       ...   \n2023-02-03  5.049200  108490.000000  5.049200  108490.000000  5.134700   \n2023-02-06  5.149800  108456.000000  5.149800  108456.000000  5.206000   \n2023-02-07  5.145700  107920.000000  5.145700  107920.000000  5.205700   \n2023-02-08  5.209300  109882.000000  5.209300  109882.000000  5.240100   \n2023-02-09  5.199500  108008.046875  5.199500  108008.046875  5.274000   \n\n                           Low                Open           Volume  \\\n               ^BVSP     BRL=X     ^BVSP     BRL=X     ^BVSP  BRL=X   \nDate                                                                  \n2022-02-10  113812.0  5.170000  112163.0  5.231429  112462.0      0   \n2022-02-11  114899.0  5.182800  113128.0  5.248600  113368.0      0   \n2022-02-14  114167.0  5.195300  113358.0  5.250500  113643.0      0   \n2022-02-15  114819.0  5.166288  113882.0  5.213700  113905.0      0   \n2022-02-16  115734.0  5.143800  114816.0  5.158000  114830.0      0   \n...              ...       ...       ...       ...       ...    ...   \n2023-02-03  110570.0  5.046758  108185.0  5.049200  110141.0      0   \n2023-02-06  108710.0  5.147992  107416.0  5.149800  108518.0      0   \n2023-02-07  109037.0  5.133384  107234.0  5.145700  108727.0      0   \n2023-02-08  110175.0  5.164117  107830.0  5.209300  107832.0      0   \n2023-02-09       0.0  5.170100       0.0  5.199500       0.0      0   \n\n                        \n                 ^BVSP  \nDate                    \n2022-02-10  13267900.0  \n2022-02-11  18602800.0  \n2022-02-14  10757600.0  \n2022-02-15  11649600.0  \n2022-02-16  12052100.0  \n...                ...  \n2023-02-03  13235300.0  \n2023-02-06  11514600.0  \n2023-02-07  12956300.0  \n2023-02-08  13837000.0  \n2023-02-09         0.0  \n\n[261 rows x 12 columns]",
      "text/html": "<div>\n<style scoped>\n    .dataframe tbody tr th:only-of-type {\n        vertical-align: middle;\n    }\n\n    .dataframe tbody tr th {\n        vertical-align: top;\n    }\n\n    .dataframe thead tr th {\n        text-align: left;\n    }\n\n    .dataframe thead tr:last-of-type th {\n        text-align: right;\n    }\n</style>\n<table border=\"1\" class=\"dataframe\">\n  <thead>\n    <tr>\n      <th></th>\n      <th colspan=\"2\" halign=\"left\">Adj Close</th>\n      <th colspan=\"2\" halign=\"left\">Close</th>\n      <th colspan=\"2\" halign=\"left\">High</th>\n      <th colspan=\"2\" halign=\"left\">Low</th>\n      <th colspan=\"2\" halign=\"left\">Open</th>\n      <th colspan=\"2\" halign=\"left\">Volume</th>\n    </tr>\n    <tr>\n      <th></th>\n      <th>BRL=X</th>\n      <th>^BVSP</th>\n      <th>BRL=X</th>\n      <th>^BVSP</th>\n      <th>BRL=X</th>\n      <th>^BVSP</th>\n      <th>BRL=X</th>\n      <th>^BVSP</th>\n      <th>BRL=X</th>\n      <th>^BVSP</th>\n      <th>BRL=X</th>\n      <th>^BVSP</th>\n    </tr>\n    <tr>\n      <th>Date</th>\n      <th></th>\n      <th></th>\n      <th></th>\n      <th></th>\n      <th></th>\n      <th></th>\n      <th></th>\n      <th></th>\n      <th></th>\n      <th></th>\n      <th></th>\n      <th></th>\n    </tr>\n  </thead>\n  <tbody>\n    <tr>\n      <th>2022-02-10</th>\n      <td>5.234500</td>\n      <td>113359.000000</td>\n      <td>5.234500</td>\n      <td>113359.000000</td>\n      <td>5.244600</td>\n      <td>113812.0</td>\n      <td>5.170000</td>\n      <td>112163.0</td>\n      <td>5.231429</td>\n      <td>112462.0</td>\n      <td>0</td>\n      <td>13267900.0</td>\n    </tr>\n    <tr>\n      <th>2022-02-11</th>\n      <td>5.248700</td>\n      <td>113572.000000</td>\n      <td>5.248700</td>\n      <td>113572.000000</td>\n      <td>5.251200</td>\n      <td>114899.0</td>\n      <td>5.182800</td>\n      <td>113128.0</td>\n      <td>5.248600</td>\n      <td>113368.0</td>\n      <td>0</td>\n      <td>18602800.0</td>\n    </tr>\n    <tr>\n      <th>2022-02-14</th>\n      <td>5.249956</td>\n      <td>113807.000000</td>\n      <td>5.249956</td>\n      <td>113807.000000</td>\n      <td>5.263300</td>\n      <td>114167.0</td>\n      <td>5.195300</td>\n      <td>113358.0</td>\n      <td>5.250500</td>\n      <td>113643.0</td>\n      <td>0</td>\n      <td>10757600.0</td>\n    </tr>\n    <tr>\n      <th>2022-02-15</th>\n      <td>5.214000</td>\n      <td>114660.000000</td>\n      <td>5.214000</td>\n      <td>114660.000000</td>\n      <td>5.219900</td>\n      <td>114819.0</td>\n      <td>5.166288</td>\n      <td>113882.0</td>\n      <td>5.213700</td>\n      <td>113905.0</td>\n      <td>0</td>\n      <td>11649600.0</td>\n    </tr>\n    <tr>\n      <th>2022-02-16</th>\n      <td>5.157900</td>\n      <td>115181.000000</td>\n      <td>5.157900</td>\n      <td>115181.000000</td>\n      <td>5.184725</td>\n      <td>115734.0</td>\n      <td>5.143800</td>\n      <td>114816.0</td>\n      <td>5.158000</td>\n      <td>114830.0</td>\n      <td>0</td>\n      <td>12052100.0</td>\n    </tr>\n    <tr>\n      <th>...</th>\n      <td>...</td>\n      <td>...</td>\n      <td>...</td>\n      <td>...</td>\n      <td>...</td>\n      <td>...</td>\n      <td>...</td>\n      <td>...</td>\n      <td>...</td>\n      <td>...</td>\n      <td>...</td>\n      <td>...</td>\n    </tr>\n    <tr>\n      <th>2023-02-03</th>\n      <td>5.049200</td>\n      <td>108490.000000</td>\n      <td>5.049200</td>\n      <td>108490.000000</td>\n      <td>5.134700</td>\n      <td>110570.0</td>\n      <td>5.046758</td>\n      <td>108185.0</td>\n      <td>5.049200</td>\n      <td>110141.0</td>\n      <td>0</td>\n      <td>13235300.0</td>\n    </tr>\n    <tr>\n      <th>2023-02-06</th>\n      <td>5.149800</td>\n      <td>108456.000000</td>\n      <td>5.149800</td>\n      <td>108456.000000</td>\n      <td>5.206000</td>\n      <td>108710.0</td>\n      <td>5.147992</td>\n      <td>107416.0</td>\n      <td>5.149800</td>\n      <td>108518.0</td>\n      <td>0</td>\n      <td>11514600.0</td>\n    </tr>\n    <tr>\n      <th>2023-02-07</th>\n      <td>5.145700</td>\n      <td>107920.000000</td>\n      <td>5.145700</td>\n      <td>107920.000000</td>\n      <td>5.205700</td>\n      <td>109037.0</td>\n      <td>5.133384</td>\n      <td>107234.0</td>\n      <td>5.145700</td>\n      <td>108727.0</td>\n      <td>0</td>\n      <td>12956300.0</td>\n    </tr>\n    <tr>\n      <th>2023-02-08</th>\n      <td>5.209300</td>\n      <td>109882.000000</td>\n      <td>5.209300</td>\n      <td>109882.000000</td>\n      <td>5.240100</td>\n      <td>110175.0</td>\n      <td>5.164117</td>\n      <td>107830.0</td>\n      <td>5.209300</td>\n      <td>107832.0</td>\n      <td>0</td>\n      <td>13837000.0</td>\n    </tr>\n    <tr>\n      <th>2023-02-09</th>\n      <td>5.199500</td>\n      <td>108008.046875</td>\n      <td>5.199500</td>\n      <td>108008.046875</td>\n      <td>5.274000</td>\n      <td>0.0</td>\n      <td>5.170100</td>\n      <td>0.0</td>\n      <td>5.199500</td>\n      <td>0.0</td>\n      <td>0</td>\n      <td>0.0</td>\n    </tr>\n  </tbody>\n</table>\n<p>261 rows × 12 columns</p>\n</div>"
     },
     "metadata": {},
     "output_type": "display_data"
    }
   ],
   "source": [
    "negotiation_codes = [\"^BVSP\", \"BRL=X\"]\n",
    "\n",
    "today = datetime.datetime.now()\n",
    "one_year_ago = today - datetime.timedelta(days=365) # Delta é a diferença entre dois tempos\n",
    "\n",
    "market_data = yf.download(negotiation_codes, one_year_ago, today)\n",
    "\n",
    "print(negotiation_codes)\n",
    "print(today)\n",
    "print(one_year_ago)\n",
    "\n",
    "display(market_data)"
   ],
   "metadata": {
    "collapsed": false
   }
  },
  {
   "cell_type": "markdown",
   "source": [
    "><font color = \"Orange\"> Passo 3 - Manipular os dados para deixá-los nos formatos necessários para fazer as contas."
   ],
   "metadata": {
    "collapsed": false
   }
  },
  {
   "cell_type": "code",
   "execution_count": 16,
   "outputs": [
    {
     "data": {
      "text/plain": "               Dólar       Ibovespa\nDate                               \n2022-02-10  5.234500  113359.000000\n2022-02-11  5.248700  113572.000000\n2022-02-14  5.249956  113807.000000\n2022-02-15  5.214000  114660.000000\n2022-02-16  5.157900  115181.000000\n...              ...            ...\n2023-02-03  5.049200  108490.000000\n2023-02-06  5.149800  108456.000000\n2023-02-07  5.145700  107920.000000\n2023-02-08  5.209300  109882.000000\n2023-02-09  5.199500  108008.046875\n\n[251 rows x 2 columns]",
      "text/html": "<div>\n<style scoped>\n    .dataframe tbody tr th:only-of-type {\n        vertical-align: middle;\n    }\n\n    .dataframe tbody tr th {\n        vertical-align: top;\n    }\n\n    .dataframe thead th {\n        text-align: right;\n    }\n</style>\n<table border=\"1\" class=\"dataframe\">\n  <thead>\n    <tr style=\"text-align: right;\">\n      <th></th>\n      <th>Dólar</th>\n      <th>Ibovespa</th>\n    </tr>\n    <tr>\n      <th>Date</th>\n      <th></th>\n      <th></th>\n    </tr>\n  </thead>\n  <tbody>\n    <tr>\n      <th>2022-02-10</th>\n      <td>5.234500</td>\n      <td>113359.000000</td>\n    </tr>\n    <tr>\n      <th>2022-02-11</th>\n      <td>5.248700</td>\n      <td>113572.000000</td>\n    </tr>\n    <tr>\n      <th>2022-02-14</th>\n      <td>5.249956</td>\n      <td>113807.000000</td>\n    </tr>\n    <tr>\n      <th>2022-02-15</th>\n      <td>5.214000</td>\n      <td>114660.000000</td>\n    </tr>\n    <tr>\n      <th>2022-02-16</th>\n      <td>5.157900</td>\n      <td>115181.000000</td>\n    </tr>\n    <tr>\n      <th>...</th>\n      <td>...</td>\n      <td>...</td>\n    </tr>\n    <tr>\n      <th>2023-02-03</th>\n      <td>5.049200</td>\n      <td>108490.000000</td>\n    </tr>\n    <tr>\n      <th>2023-02-06</th>\n      <td>5.149800</td>\n      <td>108456.000000</td>\n    </tr>\n    <tr>\n      <th>2023-02-07</th>\n      <td>5.145700</td>\n      <td>107920.000000</td>\n    </tr>\n    <tr>\n      <th>2023-02-08</th>\n      <td>5.209300</td>\n      <td>109882.000000</td>\n    </tr>\n    <tr>\n      <th>2023-02-09</th>\n      <td>5.199500</td>\n      <td>108008.046875</td>\n    </tr>\n  </tbody>\n</table>\n<p>251 rows × 2 columns</p>\n</div>"
     },
     "metadata": {},
     "output_type": "display_data"
    }
   ],
   "source": [
    "#closing_data.columns #Acessando o atributo columns\n",
    "closing_data = market_data['Adj Close']\n",
    "closing_data.columns = ['Dólar', 'Ibovespa']\n",
    "\n",
    "closing_data = closing_data.dropna() # removing NaN values\n",
    "\n",
    "display(closing_data)"
   ],
   "metadata": {
    "collapsed": false
   }
  }
 ],
 "metadata": {
  "kernelspec": {
   "display_name": "Python 3",
   "language": "python",
   "name": "python3"
  },
  "language_info": {
   "codemirror_mode": {
    "name": "ipython",
    "version": 2
   },
   "file_extension": ".py",
   "mimetype": "text/x-python",
   "name": "python",
   "nbconvert_exporter": "python",
   "pygments_lexer": "ipython2",
   "version": "2.7.6"
  }
 },
 "nbformat": 4,
 "nbformat_minor": 0
}
