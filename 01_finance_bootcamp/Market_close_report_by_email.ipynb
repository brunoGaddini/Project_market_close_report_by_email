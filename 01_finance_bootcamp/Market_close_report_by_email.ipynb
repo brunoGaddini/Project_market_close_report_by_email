{
 "cells": [
  {
   "cell_type": "markdown",
   "source": [],
   "metadata": {
    "collapsed": false
   }
  },
  {
   "cell_type": "markdown",
   "source": [
    "<font color = \"Orange\"> **Projeto - Relatório de fechamento de mercado por e-mail.**\n",
    "> <font color = \"Orange\"> **Desafio**\n",
    "<br>\n",
    "<h5> >>>> <font color = \"Yellow\"> Passo 1 - Importar os módulos e bibliotecas.\n",
    "<h5> >>>> <font color = \"Yellow\"> Passo 2 - Pegar dados do Ibovespa e do Dólar no Yahoo Finance.\n",
    "<h5> >>>> <font color = \"Yellow\"> Passo 3 - Manipular os dados para deixá-los nos formatos necessários para fazer as contas.\n",
    "<h5> >>>> <font color = \"Yellow\"> Passo 4 - Calcular o retorno diário, mensal e anual.\n",
    "<h5> >>>> <font color = \"Yellow\"> Passo 5 - Localizar, dentro das tabelas de retornos, os valores de fechamento de mercado que irão pro texto  anexado no e-mail.\n",
    "<h5> >>>> <font color = \"Yellow\"> Passo 6 - Fazer os gráficos dos ativos.\n",
    "<h5> >>>> <font color = \"Yellow\"> Passo 7 - Enviar o e-mail."
   ],
   "metadata": {
    "collapsed": false
   }
  },
  {
   "cell_type": "markdown",
   "source": [],
   "metadata": {
    "collapsed": false
   }
  },
  {
   "cell_type": "markdown",
   "source": [
    "><font color = \"Orange\"> Passo 1 - Importar os módulos e bibliotecas."
   ],
   "metadata": {
    "collapsed": false
   }
  },
  {
   "cell_type": "code",
   "execution_count": 2,
   "outputs": [
    {
     "name": "stdout",
     "output_type": "stream",
     "text": [
      "Requirement already satisfied: pywin32 in c:\\users\\bruno\\anaconda3\\lib\\site-packages (228)\n"
     ]
    }
   ],
   "source": [
    "# Pacote para enviar e-mail\n",
    "!pip install pywin32"
   ],
   "metadata": {
    "collapsed": false
   }
  },
  {
   "cell_type": "code",
   "execution_count": 3,
   "outputs": [
    {
     "name": "stdout",
     "output_type": "stream",
     "text": [
      "Requirement already satisfied: yfinance==0.1.74 in c:\\users\\bruno\\anaconda3\\lib\\site-packages (0.1.74)\n",
      "Requirement already satisfied: pandas>=0.24.0 in c:\\users\\bruno\\anaconda3\\lib\\site-packages (from yfinance==0.1.74) (1.3.4)\n",
      "Requirement already satisfied: multitasking>=0.0.7 in c:\\users\\bruno\\anaconda3\\lib\\site-packages (from yfinance==0.1.74) (0.0.11)\n",
      "Requirement already satisfied: lxml>=4.5.1 in c:\\users\\bruno\\anaconda3\\lib\\site-packages (from yfinance==0.1.74) (4.6.3)\n",
      "Requirement already satisfied: numpy>=1.15 in c:\\users\\bruno\\anaconda3\\lib\\site-packages (from yfinance==0.1.74) (1.20.3)\n",
      "Requirement already satisfied: requests>=2.26 in c:\\users\\bruno\\anaconda3\\lib\\site-packages (from yfinance==0.1.74) (2.26.0)\n",
      "Requirement already satisfied: pytz>=2017.3 in c:\\users\\bruno\\anaconda3\\lib\\site-packages (from pandas>=0.24.0->yfinance==0.1.74) (2021.3)\n",
      "Requirement already satisfied: python-dateutil>=2.7.3 in c:\\users\\bruno\\anaconda3\\lib\\site-packages (from pandas>=0.24.0->yfinance==0.1.74) (2.8.2)\n",
      "Requirement already satisfied: six>=1.5 in c:\\users\\bruno\\anaconda3\\lib\\site-packages (from python-dateutil>=2.7.3->pandas>=0.24.0->yfinance==0.1.74) (1.16.0)\n",
      "Requirement already satisfied: certifi>=2017.4.17 in c:\\users\\bruno\\anaconda3\\lib\\site-packages (from requests>=2.26->yfinance==0.1.74) (2021.10.8)\n",
      "Requirement already satisfied: charset-normalizer~=2.0.0 in c:\\users\\bruno\\anaconda3\\lib\\site-packages (from requests>=2.26->yfinance==0.1.74) (2.0.4)\n",
      "Requirement already satisfied: urllib3<1.27,>=1.21.1 in c:\\users\\bruno\\anaconda3\\lib\\site-packages (from requests>=2.26->yfinance==0.1.74) (1.26.7)\n",
      "Requirement already satisfied: idna<4,>=2.5 in c:\\users\\bruno\\anaconda3\\lib\\site-packages (from requests>=2.26->yfinance==0.1.74) (3.2)\n"
     ]
    }
   ],
   "source": [
    "!pip install yfinance==0.1.74"
   ],
   "metadata": {
    "collapsed": false
   }
  },
  {
   "cell_type": "code",
   "execution_count": 4,
   "outputs": [
    {
     "name": "stdout",
     "output_type": "stream",
     "text": [
      "Requirement already satisfied: mplcyberpunk in c:\\users\\bruno\\anaconda3\\lib\\site-packages (0.6.0)\n",
      "Requirement already satisfied: matplotlib in c:\\users\\bruno\\anaconda3\\lib\\site-packages (from mplcyberpunk) (3.4.3)\n",
      "Requirement already satisfied: cycler>=0.10 in c:\\users\\bruno\\anaconda3\\lib\\site-packages (from matplotlib->mplcyberpunk) (0.10.0)\n",
      "Requirement already satisfied: kiwisolver>=1.0.1 in c:\\users\\bruno\\anaconda3\\lib\\site-packages (from matplotlib->mplcyberpunk) (1.3.1)\n",
      "Requirement already satisfied: numpy>=1.16 in c:\\users\\bruno\\anaconda3\\lib\\site-packages (from matplotlib->mplcyberpunk) (1.20.3)\n",
      "Requirement already satisfied: python-dateutil>=2.7 in c:\\users\\bruno\\anaconda3\\lib\\site-packages (from matplotlib->mplcyberpunk) (2.8.2)\n",
      "Requirement already satisfied: pyparsing>=2.2.1 in c:\\users\\bruno\\anaconda3\\lib\\site-packages (from matplotlib->mplcyberpunk) (3.0.4)\n",
      "Requirement already satisfied: pillow>=6.2.0 in c:\\users\\bruno\\anaconda3\\lib\\site-packages (from matplotlib->mplcyberpunk) (8.4.0)\n",
      "Requirement already satisfied: six in c:\\users\\bruno\\anaconda3\\lib\\site-packages (from cycler>=0.10->matplotlib->mplcyberpunk) (1.16.0)\n"
     ]
    }
   ],
   "source": [
    "# Trata-se de um pacote ser um pacore gráfico\n",
    "!pip install mplcyberpunk"
   ],
   "metadata": {
    "collapsed": false
   }
  },
  {
   "cell_type": "code",
   "execution_count": 5,
   "outputs": [],
   "source": [
    "import pandas as pd\n",
    "import datetime\n",
    "import yfinance as yf\n",
    "import mplcyberpunk\n",
    "import win32com.client as win32 # Módulo para enviar e-mail\n",
    "\n",
    "from matplotlib import pyplot as plt # Pacote para plotar gráficos"
   ],
   "metadata": {
    "collapsed": false
   }
  },
  {
   "cell_type": "markdown",
   "source": [
    "><font color = \"Orange\"> Passo 2: Pegar dados no Yahoo Finance"
   ],
   "metadata": {
    "collapsed": false
   }
  },
  {
   "cell_type": "code",
   "execution_count": 6,
   "outputs": [
    {
     "name": "stdout",
     "output_type": "stream",
     "text": [
      "['^BVSP', 'BRL=X']\n"
     ]
    }
   ],
   "source": [
    "codigos_de_negociacao = [\"^BVSP\", \"BRL=X\"]\n",
    "\n",
    "print(codigos_de_negociacao)"
   ],
   "metadata": {
    "collapsed": false
   }
  }
 ],
 "metadata": {
  "kernelspec": {
   "display_name": "Python 3",
   "language": "python",
   "name": "python3"
  },
  "language_info": {
   "codemirror_mode": {
    "name": "ipython",
    "version": 2
   },
   "file_extension": ".py",
   "mimetype": "text/x-python",
   "name": "python",
   "nbconvert_exporter": "python",
   "pygments_lexer": "ipython2",
   "version": "2.7.6"
  }
 },
 "nbformat": 4,
 "nbformat_minor": 0
}
